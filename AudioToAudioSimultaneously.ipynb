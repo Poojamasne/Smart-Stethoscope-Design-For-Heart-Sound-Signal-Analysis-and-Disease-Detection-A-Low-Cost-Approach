{
 "cells": [
  {
   "cell_type": "code",
   "execution_count": null,
   "metadata": {},
   "outputs": [],
   "source": [
    "import pyaudio\n",
    "import numpy as np"
   ]
  },
  {
   "cell_type": "code",
   "execution_count": null,
   "metadata": {},
   "outputs": [],
   "source": [
    "# The following code comes from markjay4k as referenced below\n",
    "chunk = 512\n",
    "RATE = 44100"
   ]
  },
  {
   "cell_type": "code",
   "execution_count": 3,
   "metadata": {},
   "outputs": [
    {
     "ename": "NameError",
     "evalue": "name 'pyaudio' is not defined",
     "output_type": "error",
     "traceback": [
      "\u001b[1;31m---------------------------------------------------------------------------\u001b[0m",
      "\u001b[1;31mNameError\u001b[0m                                 Traceback (most recent call last)",
      "Cell \u001b[1;32mIn[3], line 2\u001b[0m\n\u001b[0;32m      1\u001b[0m \u001b[38;5;66;03m# Define the object\u001b[39;00m\n\u001b[1;32m----> 2\u001b[0m p \u001b[38;5;241m=\u001b[39m \u001b[43mpyaudio\u001b[49m\u001b[38;5;241m.\u001b[39mPyAudio()\n",
      "\u001b[1;31mNameError\u001b[0m: name 'pyaudio' is not defined"
     ]
    }
   ],
   "source": [
    "# Define the object\n",
    "p = pyaudio.PyAudio()"
   ]
  },
  {
   "cell_type": "code",
   "execution_count": 2,
   "metadata": {},
   "outputs": [
    {
     "ename": "NameError",
     "evalue": "name 'p' is not defined",
     "output_type": "error",
     "traceback": [
      "\u001b[1;31m---------------------------------------------------------------------------\u001b[0m",
      "\u001b[1;31mNameError\u001b[0m                                 Traceback (most recent call last)",
      "Cell \u001b[1;32mIn[2], line 2\u001b[0m\n\u001b[0;32m      1\u001b[0m \u001b[38;5;66;03m# input stream setup\u001b[39;00m\n\u001b[1;32m----> 2\u001b[0m stream \u001b[38;5;241m=\u001b[39m \u001b[43mp\u001b[49m\u001b[38;5;241m.\u001b[39mopen(\u001b[38;5;28mformat\u001b[39m \u001b[38;5;241m=\u001b[39m pyaudio\u001b[38;5;241m.\u001b[39mpaInt16,\n\u001b[0;32m      3\u001b[0m                 rate\u001b[38;5;241m=\u001b[39mRATE,\n\u001b[0;32m      4\u001b[0m                 channels\u001b[38;5;241m=\u001b[39m\u001b[38;5;241m1\u001b[39m, \n\u001b[0;32m      5\u001b[0m                 input_device_index \u001b[38;5;241m=\u001b[39m \u001b[38;5;241m2\u001b[39m, \n\u001b[0;32m      6\u001b[0m                 \u001b[38;5;28minput\u001b[39m\u001b[38;5;241m=\u001b[39m\u001b[38;5;28;01mTrue\u001b[39;00m, \n\u001b[0;32m      7\u001b[0m                 frames_per_buffer\u001b[38;5;241m=\u001b[39mchunk)\n\u001b[0;32m      9\u001b[0m \u001b[38;5;66;03m# the code below is from the pyAudio library documentation referenced below\u001b[39;00m\n\u001b[0;32m     10\u001b[0m \u001b[38;5;66;03m#output stream setup\u001b[39;00m\n\u001b[0;32m     11\u001b[0m player \u001b[38;5;241m=\u001b[39m p\u001b[38;5;241m.\u001b[39mopen(\u001b[38;5;28mformat\u001b[39m \u001b[38;5;241m=\u001b[39m pyaudio\u001b[38;5;241m.\u001b[39mpaInt16,\n\u001b[0;32m     12\u001b[0m                 rate\u001b[38;5;241m=\u001b[39mRATE,\n\u001b[0;32m     13\u001b[0m                 channels\u001b[38;5;241m=\u001b[39m\u001b[38;5;241m1\u001b[39m, \n\u001b[0;32m     14\u001b[0m                 output\u001b[38;5;241m=\u001b[39m\u001b[38;5;28;01mTrue\u001b[39;00m, \n\u001b[0;32m     15\u001b[0m                 frames_per_buffer\u001b[38;5;241m=\u001b[39mchunk)\n",
      "\u001b[1;31mNameError\u001b[0m: name 'p' is not defined"
     ]
    }
   ],
   "source": [
    "# input stream setup\n",
    "stream = p.open(format = pyaudio.paInt16,\n",
    "                rate=RATE,\n",
    "                channels=1, \n",
    "                input_device_index = 2, \n",
    "                input=True, \n",
    "                frames_per_buffer=chunk)\n",
    "\n",
    "# the code below is from the pyAudio library documentation referenced below\n",
    "#output stream setup\n",
    "player = p.open(format = pyaudio.paInt16,\n",
    "                rate=RATE,\n",
    "                channels=1, \n",
    "                output=True, \n",
    "                frames_per_buffer=chunk)"
   ]
  },
  {
   "cell_type": "code",
   "execution_count": null,
   "metadata": {},
   "outputs": [],
   "source": [
    "while True:            #Used to continuously stream audio\n",
    "    data = np.fromstring(stream.read(chunk,exception_on_overflow = False),dtype=np.int16)\n",
    "    player.write(data,chunk)"
   ]
  },
  {
   "cell_type": "code",
   "execution_count": 1,
   "metadata": {},
   "outputs": [
    {
     "ename": "NameError",
     "evalue": "name 'stream' is not defined",
     "output_type": "error",
     "traceback": [
      "\u001b[1;31m---------------------------------------------------------------------------\u001b[0m",
      "\u001b[1;31mNameError\u001b[0m                                 Traceback (most recent call last)",
      "Cell \u001b[1;32mIn[1], line 2\u001b[0m\n\u001b[0;32m      1\u001b[0m \u001b[38;5;66;03m#closes streams\u001b[39;00m\n\u001b[1;32m----> 2\u001b[0m \u001b[43mstream\u001b[49m\u001b[38;5;241m.\u001b[39mstop_stream()\n\u001b[0;32m      3\u001b[0m stream\u001b[38;5;241m.\u001b[39mclose()\n\u001b[0;32m      4\u001b[0m p\u001b[38;5;241m.\u001b[39mterminate\n",
      "\u001b[1;31mNameError\u001b[0m: name 'stream' is not defined"
     ]
    }
   ],
   "source": [
    "#closes streams\n",
    "stream.stop_stream()\n",
    "stream.close()\n",
    "p.terminate"
   ]
  }
 ],
 "metadata": {
  "kernelspec": {
   "display_name": "Python 3",
   "language": "python",
   "name": "python3"
  },
  "language_info": {
   "codemirror_mode": {
    "name": "ipython",
    "version": 3
   },
   "file_extension": ".py",
   "mimetype": "text/x-python",
   "name": "python",
   "nbconvert_exporter": "python",
   "pygments_lexer": "ipython3",
   "version": "3.11.2"
  }
 },
 "nbformat": 4,
 "nbformat_minor": 2
}
